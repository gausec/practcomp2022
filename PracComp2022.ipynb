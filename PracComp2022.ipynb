{
  "nbformat": 4,
  "nbformat_minor": 0,
  "metadata": {
    "colab": {
      "provenance": [],
      "authorship_tag": "ABX9TyPEqwNjwmB3sqVTl2cDADxF",
      "include_colab_link": true
    },
    "kernelspec": {
      "name": "python3",
      "display_name": "Python 3"
    },
    "language_info": {
      "name": "python"
    }
  },
  "cells": [
    {
      "cell_type": "markdown",
      "metadata": {
        "id": "view-in-github",
        "colab_type": "text"
      },
      "source": [
        "<a href=\"https://colab.research.google.com/github/gausec/practcomp2022/blob/master/PracComp2022.ipynb\" target=\"_parent\"><img src=\"https://colab.research.google.com/assets/colab-badge.svg\" alt=\"Open In Colab\"/></a>"
      ]
    },
    {
      "cell_type": "markdown",
      "source": [
        "# Basics"
      ],
      "metadata": {
        "id": "OfJJ0xtz7gQp"
      }
    },
    {
      "cell_type": "markdown",
      "source": [
        "## Markdown carry over"
      ],
      "metadata": {
        "id": "ziE8_j_u76OV"
      }
    },
    {
      "cell_type": "markdown",
      "source": [
        "* Use asterisks to create\n",
        "* Unordered lists\n",
        "1. Use numbers\n",
        "2. To create\n",
        "3. ordered list\n",
        "\n",
        "* Top level\n",
        "  * indent \n",
        "    * subindent \n",
        "\n",
        "blah blah line breaks\n",
        "don't \n",
        "matter\n",
        "\n",
        "\n",
        "_But double-spaced empty lines create new paragraphs_\n",
        "\n",
        "[link here](https://github.com/)\n",
        "\n",
        "\n"
      ],
      "metadata": {
        "id": "WVaTX5PI7-mf"
      }
    },
    {
      "cell_type": "markdown",
      "source": [
        "# Python Basics\n"
      ],
      "metadata": {
        "id": "2GcuA7pG89pB"
      }
    },
    {
      "cell_type": "markdown",
      "source": [
        "## Variables"
      ],
      "metadata": {
        "id": "4TONePzR9CcD"
      }
    },
    {
      "cell_type": "code",
      "source": [
        "myage =25\n",
        "given_name = 'Carol'\n",
        "family_name = 'Gause'\n"
      ],
      "metadata": {
        "id": "CViCiEJj9O-o"
      },
      "execution_count": 11,
      "outputs": []
    },
    {
      "cell_type": "code",
      "source": [
        "print(given_name, 'is', myage, 'years old')"
      ],
      "metadata": {
        "colab": {
          "base_uri": "https://localhost:8080/"
        },
        "id": "_1kPJ7jP93BP",
        "outputId": "a7e40f39-23da-40b2-f358-069d80666262"
      },
      "execution_count": 12,
      "outputs": [
        {
          "output_type": "stream",
          "name": "stdout",
          "text": [
            "Carol is 25 years old\n"
          ]
        }
      ]
    },
    {
      "cell_type": "code",
      "source": [
        "type(myage)\n",
        "type(given_name)\n",
        "\n",
        "print(type(myage), type(given_name))\n"
      ],
      "metadata": {
        "colab": {
          "base_uri": "https://localhost:8080/"
        },
        "id": "MxSDMyS7-jJP",
        "outputId": "9b338cfc-59dd-42f3-e529-2a7d747d6587"
      },
      "execution_count": 10,
      "outputs": [
        {
          "output_type": "stream",
          "name": "stdout",
          "text": [
            "<class 'int'> <class 'str'>\n"
          ]
        }
      ]
    },
    {
      "cell_type": "code",
      "source": [
        "myage_str = str(myage) #turning my age into a string\n",
        "\n",
        "print(myage +1)\n",
        "print(myage_str + str(1))\n",
        "print(myage + myage)\n",
        "print(myage_str + myage_str)"
      ],
      "metadata": {
        "colab": {
          "base_uri": "https://localhost:8080/"
        },
        "id": "tD4-HySc_Cpk",
        "outputId": "8f7f46dd-711b-4b00-e22b-872fe7f373de"
      },
      "execution_count": 19,
      "outputs": [
        {
          "output_type": "stream",
          "name": "stdout",
          "text": [
            "26\n",
            "251\n",
            "50\n",
            "2525\n"
          ]
        }
      ]
    },
    {
      "cell_type": "markdown",
      "source": [
        "## Indexing"
      ],
      "metadata": {
        "id": "0tns1QSAAAwG"
      }
    },
    {
      "cell_type": "markdown",
      "source": [
        "### Object; string + integers???\n",
        "\n",
        "**_Python starts counting at ZERO!_**"
      ],
      "metadata": {
        "id": "DBaAeWP-AC-_"
      }
    },
    {
      "cell_type": "code",
      "source": [
        "given_name[0:4] # asks for first 4 letters\n",
        "given_name[0:] #asks for all characters of the string"
      ],
      "metadata": {
        "colab": {
          "base_uri": "https://localhost:8080/",
          "height": 35
        },
        "id": "bdZQoJPiATCV",
        "outputId": "08b4a906-b4a8-453e-aa6a-5a00ff642f1c"
      },
      "execution_count": 29,
      "outputs": [
        {
          "output_type": "execute_result",
          "data": {
            "text/plain": [
              "'Carol'"
            ],
            "application/vnd.google.colaboratory.intrinsic+json": {
              "type": "string"
            }
          },
          "metadata": {},
          "execution_count": 29
        }
      ]
    },
    {
      "cell_type": "markdown",
      "source": [
        "### Math: integers vs. floats"
      ],
      "metadata": {
        "id": "In5sTbrJBEnv"
      }
    },
    {
      "cell_type": "code",
      "source": [
        "print(myage)\n",
        "myage/4\n",
        "type(myage/4) #float means it has decimal places\n",
        "float(myage) # tells code to change from integer to a float\n",
        "myage + float(myage)"
      ],
      "metadata": {
        "colab": {
          "base_uri": "https://localhost:8080/"
        },
        "id": "7_oQUzgaBEOq",
        "outputId": "f14e0454-1539-4c56-c24b-61f21e64c3b3"
      },
      "execution_count": 34,
      "outputs": [
        {
          "output_type": "stream",
          "name": "stdout",
          "text": [
            "25\n"
          ]
        },
        {
          "output_type": "execute_result",
          "data": {
            "text/plain": [
              "50.0"
            ]
          },
          "metadata": {},
          "execution_count": 34
        }
      ]
    },
    {
      "cell_type": "markdown",
      "source": [
        "### Basics wrap"
      ],
      "metadata": {
        "id": "BwOgymIFBvdb"
      }
    },
    {
      "cell_type": "code",
      "source": [
        "full_name_age = given_name+ ' Ann '+ family_name +' is my full name, and I am '+str(myage)+' years old ' #This is creating a a new variable to tell you full name and age (age has to be a string)\n",
        "print(full_name_age)"
      ],
      "metadata": {
        "colab": {
          "base_uri": "https://localhost:8080/"
        },
        "id": "HsFE0EOMBxk1",
        "outputId": "6096c171-4818-4aa8-e1bb-f6acd98677fb"
      },
      "execution_count": 44,
      "outputs": [
        {
          "output_type": "stream",
          "name": "stdout",
          "text": [
            "Carol Ann Gause is my full name, and I am 25 years old \n"
          ]
        }
      ]
    },
    {
      "cell_type": "markdown",
      "source": [
        "## MATH in Python"
      ],
      "metadata": {
        "id": "_1V8fed9Du5c"
      }
    },
    {
      "cell_type": "code",
      "source": [
        "\n",
        "5/2"
      ],
      "metadata": {
        "colab": {
          "base_uri": "https://localhost:8080/"
        },
        "id": "gMjX9G3KDxOX",
        "outputId": "e781e78e-e676-4e17-a6fb-2dbbb84bafa0"
      },
      "execution_count": 45,
      "outputs": [
        {
          "output_type": "execute_result",
          "data": {
            "text/plain": [
              "2.5"
            ]
          },
          "metadata": {},
          "execution_count": 45
        }
      ]
    },
    {
      "cell_type": "code",
      "source": [
        "5//2 # remainder / rounds floats to integers following division "
      ],
      "metadata": {
        "colab": {
          "base_uri": "https://localhost:8080/"
        },
        "id": "RzPPloi8D2Vz",
        "outputId": "9077b88e-32a5-4a50-ab16-8f9faa437470"
      },
      "execution_count": 46,
      "outputs": [
        {
          "output_type": "execute_result",
          "data": {
            "text/plain": [
              "2"
            ]
          },
          "metadata": {},
          "execution_count": 46
        }
      ]
    },
    {
      "cell_type": "code",
      "source": [
        "print(type(5/2), type(5//2)) # double slash results in a rounded number instead of the float - good if you have to use integers"
      ],
      "metadata": {
        "colab": {
          "base_uri": "https://localhost:8080/"
        },
        "id": "YAZNOrcPD8NE",
        "outputId": "98ba8992-0da1-4826-d65a-2cf4b1bef682"
      },
      "execution_count": 47,
      "outputs": [
        {
          "output_type": "stream",
          "name": "stdout",
          "text": [
            "<class 'float'> <class 'int'>\n"
          ]
        }
      ]
    },
    {
      "cell_type": "code",
      "source": [
        "2*4934905204"
      ],
      "metadata": {
        "colab": {
          "base_uri": "https://localhost:8080/"
        },
        "id": "WHtC11qyEuM0",
        "outputId": "7961d313-df22-41f0-a5a1-9e75a6fd7ee5"
      },
      "execution_count": 52,
      "outputs": [
        {
          "output_type": "execute_result",
          "data": {
            "text/plain": [
              "9869810408"
            ]
          },
          "metadata": {},
          "execution_count": 52
        }
      ]
    },
    {
      "cell_type": "code",
      "source": [
        "1-1"
      ],
      "metadata": {
        "colab": {
          "base_uri": "https://localhost:8080/"
        },
        "id": "gMoJmzDvE40d",
        "outputId": "8e251348-08ea-46f5-efd6-e849e4966d8e"
      },
      "execution_count": 53,
      "outputs": [
        {
          "output_type": "execute_result",
          "data": {
            "text/plain": [
              "0"
            ]
          },
          "metadata": {},
          "execution_count": 53
        }
      ]
    },
    {
      "cell_type": "markdown",
      "source": [
        "## Built in summary tools"
      ],
      "metadata": {
        "id": "BVZEENNDE77g"
      }
    },
    {
      "cell_type": "code",
      "source": [
        "numbers=(1,2,3,4,5.34534,12,7,300)\n",
        "type(numbers)"
      ],
      "metadata": {
        "colab": {
          "base_uri": "https://localhost:8080/"
        },
        "id": "lbzMYKArE-re",
        "outputId": "1d5092ac-c4d8-4473-8b6f-29b6ec49a807"
      },
      "execution_count": 61,
      "outputs": [
        {
          "output_type": "execute_result",
          "data": {
            "text/plain": [
              "tuple"
            ]
          },
          "metadata": {},
          "execution_count": 61
        }
      ]
    },
    {
      "cell_type": "code",
      "source": [
        "max(numbers)"
      ],
      "metadata": {
        "colab": {
          "base_uri": "https://localhost:8080/"
        },
        "id": "L_n4IMQnFGj5",
        "outputId": "0fe4c588-e969-4283-96a3-fb7310dbf550"
      },
      "execution_count": 62,
      "outputs": [
        {
          "output_type": "execute_result",
          "data": {
            "text/plain": [
              "300"
            ]
          },
          "metadata": {},
          "execution_count": 62
        }
      ]
    },
    {
      "cell_type": "code",
      "source": [
        "min(numbers)"
      ],
      "metadata": {
        "colab": {
          "base_uri": "https://localhost:8080/"
        },
        "id": "LZj2fPsSFJ27",
        "outputId": "dce8d86a-c64b-40c8-b940-6f5fb174bbb3"
      },
      "execution_count": 63,
      "outputs": [
        {
          "output_type": "execute_result",
          "data": {
            "text/plain": [
              "1"
            ]
          },
          "metadata": {},
          "execution_count": 63
        }
      ]
    },
    {
      "cell_type": "code",
      "source": [
        "print(numbers)"
      ],
      "metadata": {
        "colab": {
          "base_uri": "https://localhost:8080/"
        },
        "id": "fIg2VM3nFSsa",
        "outputId": "eb4b4f60-26c3-44f2-8ed7-655ec5e1796e"
      },
      "execution_count": 59,
      "outputs": [
        {
          "output_type": "stream",
          "name": "stdout",
          "text": [
            "(1, 2, 3, 4, 5, 12, 7, 300)\n"
          ]
        }
      ]
    },
    {
      "cell_type": "code",
      "source": [
        "cat=10.45678"
      ],
      "metadata": {
        "id": "BiBAjUqzFWLa"
      },
      "execution_count": 66,
      "outputs": []
    },
    {
      "cell_type": "code",
      "source": [
        "round(cat, ndigits=2)"
      ],
      "metadata": {
        "colab": {
          "base_uri": "https://localhost:8080/"
        },
        "id": "gmRUbYYyFob4",
        "outputId": "3c0f3da8-9245-4ee8-a488-93c82ca9571b"
      },
      "execution_count": 67,
      "outputs": [
        {
          "output_type": "execute_result",
          "data": {
            "text/plain": [
              "10.46"
            ]
          },
          "metadata": {},
          "execution_count": 67
        }
      ]
    },
    {
      "cell_type": "code",
      "source": [
        "round(cat)"
      ],
      "metadata": {
        "colab": {
          "base_uri": "https://localhost:8080/"
        },
        "id": "5Lj9dRMZFvdJ",
        "outputId": "c6981fd5-6a1a-49c3-f8d2-3dc39aecef8d"
      },
      "execution_count": 68,
      "outputs": [
        {
          "output_type": "execute_result",
          "data": {
            "text/plain": [
              "10"
            ]
          },
          "metadata": {},
          "execution_count": 68
        }
      ]
    }
  ]
}